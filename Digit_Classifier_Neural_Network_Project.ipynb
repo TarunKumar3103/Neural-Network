{
  "nbformat": 4,
  "nbformat_minor": 0,
  "metadata": {
    "colab": {
      "provenance": []
    },
    "kernelspec": {
      "name": "python3",
      "display_name": "Python 3"
    },
    "language_info": {
      "name": "python"
    }
  },
  "cells": [
    {
      "cell_type": "code",
      "execution_count": 1,
      "metadata": {
        "id": "-5FF8qngvIa0"
      },
      "outputs": [],
      "source": [
        "from torchvision import datasets\n",
        "from torchvision.transforms import ToTensor"
      ]
    },
    {
      "cell_type": "code",
      "source": [
        "train_data = datasets.MNIST(\n",
        "    root = 'data',\n",
        "    train = True,\n",
        "    transform = ToTensor(),\n",
        "    download = True\n",
        ")\n",
        "test_data = datasets.MNIST(\n",
        "    root = 'data',\n",
        "    train = False,\n",
        "    transform = ToTensor(),\n",
        "    download = True\n",
        ")"
      ],
      "metadata": {
        "colab": {
          "base_uri": "https://localhost:8080/"
        },
        "id": "6oGsuuE2yxDJ",
        "outputId": "8725e070-d03e-4a09-df6f-fdeb1ab5da22"
      },
      "execution_count": 2,
      "outputs": [
        {
          "output_type": "stream",
          "name": "stdout",
          "text": [
            "Downloading http://yann.lecun.com/exdb/mnist/train-images-idx3-ubyte.gz\n",
            "Failed to download (trying next):\n",
            "HTTP Error 403: Forbidden\n",
            "\n",
            "Downloading https://ossci-datasets.s3.amazonaws.com/mnist/train-images-idx3-ubyte.gz\n",
            "Downloading https://ossci-datasets.s3.amazonaws.com/mnist/train-images-idx3-ubyte.gz to data/MNIST/raw/train-images-idx3-ubyte.gz\n"
          ]
        },
        {
          "output_type": "stream",
          "name": "stderr",
          "text": [
            "100%|██████████| 9.91M/9.91M [00:00<00:00, 16.1MB/s]\n"
          ]
        },
        {
          "output_type": "stream",
          "name": "stdout",
          "text": [
            "Extracting data/MNIST/raw/train-images-idx3-ubyte.gz to data/MNIST/raw\n",
            "\n",
            "Downloading http://yann.lecun.com/exdb/mnist/train-labels-idx1-ubyte.gz\n",
            "Failed to download (trying next):\n",
            "HTTP Error 403: Forbidden\n",
            "\n",
            "Downloading https://ossci-datasets.s3.amazonaws.com/mnist/train-labels-idx1-ubyte.gz\n",
            "Downloading https://ossci-datasets.s3.amazonaws.com/mnist/train-labels-idx1-ubyte.gz to data/MNIST/raw/train-labels-idx1-ubyte.gz\n"
          ]
        },
        {
          "output_type": "stream",
          "name": "stderr",
          "text": [
            "100%|██████████| 28.9k/28.9k [00:00<00:00, 493kB/s]\n"
          ]
        },
        {
          "output_type": "stream",
          "name": "stdout",
          "text": [
            "Extracting data/MNIST/raw/train-labels-idx1-ubyte.gz to data/MNIST/raw\n",
            "\n",
            "Downloading http://yann.lecun.com/exdb/mnist/t10k-images-idx3-ubyte.gz\n",
            "Failed to download (trying next):\n",
            "HTTP Error 403: Forbidden\n",
            "\n",
            "Downloading https://ossci-datasets.s3.amazonaws.com/mnist/t10k-images-idx3-ubyte.gz\n",
            "Downloading https://ossci-datasets.s3.amazonaws.com/mnist/t10k-images-idx3-ubyte.gz to data/MNIST/raw/t10k-images-idx3-ubyte.gz\n"
          ]
        },
        {
          "output_type": "stream",
          "name": "stderr",
          "text": [
            "100%|██████████| 1.65M/1.65M [00:00<00:00, 4.46MB/s]\n"
          ]
        },
        {
          "output_type": "stream",
          "name": "stdout",
          "text": [
            "Extracting data/MNIST/raw/t10k-images-idx3-ubyte.gz to data/MNIST/raw\n",
            "\n",
            "Downloading http://yann.lecun.com/exdb/mnist/t10k-labels-idx1-ubyte.gz\n",
            "Failed to download (trying next):\n",
            "HTTP Error 403: Forbidden\n",
            "\n",
            "Downloading https://ossci-datasets.s3.amazonaws.com/mnist/t10k-labels-idx1-ubyte.gz\n",
            "Downloading https://ossci-datasets.s3.amazonaws.com/mnist/t10k-labels-idx1-ubyte.gz to data/MNIST/raw/t10k-labels-idx1-ubyte.gz\n"
          ]
        },
        {
          "output_type": "stream",
          "name": "stderr",
          "text": [
            "100%|██████████| 4.54k/4.54k [00:00<00:00, 5.29MB/s]"
          ]
        },
        {
          "output_type": "stream",
          "name": "stdout",
          "text": [
            "Extracting data/MNIST/raw/t10k-labels-idx1-ubyte.gz to data/MNIST/raw\n",
            "\n"
          ]
        },
        {
          "output_type": "stream",
          "name": "stderr",
          "text": [
            "\n"
          ]
        }
      ]
    },
    {
      "cell_type": "code",
      "source": [
        "train_data"
      ],
      "metadata": {
        "colab": {
          "base_uri": "https://localhost:8080/"
        },
        "id": "9harHH8By5Ai",
        "outputId": "74647667-dddd-4aa1-9972-3c61c36cf932"
      },
      "execution_count": 3,
      "outputs": [
        {
          "output_type": "execute_result",
          "data": {
            "text/plain": [
              "Dataset MNIST\n",
              "    Number of datapoints: 60000\n",
              "    Root location: data\n",
              "    Split: Train\n",
              "    StandardTransform\n",
              "Transform: ToTensor()"
            ]
          },
          "metadata": {},
          "execution_count": 3
        }
      ]
    },
    {
      "cell_type": "code",
      "source": [
        "test_data"
      ],
      "metadata": {
        "colab": {
          "base_uri": "https://localhost:8080/"
        },
        "id": "fFJRMLt7zAfl",
        "outputId": "b237dbbd-0ddb-4848-f199-0bfe4e356010"
      },
      "execution_count": 4,
      "outputs": [
        {
          "output_type": "execute_result",
          "data": {
            "text/plain": [
              "Dataset MNIST\n",
              "    Number of datapoints: 10000\n",
              "    Root location: data\n",
              "    Split: Test\n",
              "    StandardTransform\n",
              "Transform: ToTensor()"
            ]
          },
          "metadata": {},
          "execution_count": 4
        }
      ]
    },
    {
      "cell_type": "code",
      "source": [
        "train_data.data"
      ],
      "metadata": {
        "colab": {
          "base_uri": "https://localhost:8080/"
        },
        "id": "c29cYI7tzB5u",
        "outputId": "4b0fd8c5-2e29-4e99-ba92-e4a34f972608"
      },
      "execution_count": 5,
      "outputs": [
        {
          "output_type": "execute_result",
          "data": {
            "text/plain": [
              "tensor([[[0, 0, 0,  ..., 0, 0, 0],\n",
              "         [0, 0, 0,  ..., 0, 0, 0],\n",
              "         [0, 0, 0,  ..., 0, 0, 0],\n",
              "         ...,\n",
              "         [0, 0, 0,  ..., 0, 0, 0],\n",
              "         [0, 0, 0,  ..., 0, 0, 0],\n",
              "         [0, 0, 0,  ..., 0, 0, 0]],\n",
              "\n",
              "        [[0, 0, 0,  ..., 0, 0, 0],\n",
              "         [0, 0, 0,  ..., 0, 0, 0],\n",
              "         [0, 0, 0,  ..., 0, 0, 0],\n",
              "         ...,\n",
              "         [0, 0, 0,  ..., 0, 0, 0],\n",
              "         [0, 0, 0,  ..., 0, 0, 0],\n",
              "         [0, 0, 0,  ..., 0, 0, 0]],\n",
              "\n",
              "        [[0, 0, 0,  ..., 0, 0, 0],\n",
              "         [0, 0, 0,  ..., 0, 0, 0],\n",
              "         [0, 0, 0,  ..., 0, 0, 0],\n",
              "         ...,\n",
              "         [0, 0, 0,  ..., 0, 0, 0],\n",
              "         [0, 0, 0,  ..., 0, 0, 0],\n",
              "         [0, 0, 0,  ..., 0, 0, 0]],\n",
              "\n",
              "        ...,\n",
              "\n",
              "        [[0, 0, 0,  ..., 0, 0, 0],\n",
              "         [0, 0, 0,  ..., 0, 0, 0],\n",
              "         [0, 0, 0,  ..., 0, 0, 0],\n",
              "         ...,\n",
              "         [0, 0, 0,  ..., 0, 0, 0],\n",
              "         [0, 0, 0,  ..., 0, 0, 0],\n",
              "         [0, 0, 0,  ..., 0, 0, 0]],\n",
              "\n",
              "        [[0, 0, 0,  ..., 0, 0, 0],\n",
              "         [0, 0, 0,  ..., 0, 0, 0],\n",
              "         [0, 0, 0,  ..., 0, 0, 0],\n",
              "         ...,\n",
              "         [0, 0, 0,  ..., 0, 0, 0],\n",
              "         [0, 0, 0,  ..., 0, 0, 0],\n",
              "         [0, 0, 0,  ..., 0, 0, 0]],\n",
              "\n",
              "        [[0, 0, 0,  ..., 0, 0, 0],\n",
              "         [0, 0, 0,  ..., 0, 0, 0],\n",
              "         [0, 0, 0,  ..., 0, 0, 0],\n",
              "         ...,\n",
              "         [0, 0, 0,  ..., 0, 0, 0],\n",
              "         [0, 0, 0,  ..., 0, 0, 0],\n",
              "         [0, 0, 0,  ..., 0, 0, 0]]], dtype=torch.uint8)"
            ]
          },
          "metadata": {},
          "execution_count": 5
        }
      ]
    },
    {
      "cell_type": "code",
      "source": [
        "train_data.data.shape"
      ],
      "metadata": {
        "colab": {
          "base_uri": "https://localhost:8080/"
        },
        "id": "Dvw2999gzGx8",
        "outputId": "ff09f226-1054-4517-e9cc-df9de2d388ac"
      },
      "execution_count": 6,
      "outputs": [
        {
          "output_type": "execute_result",
          "data": {
            "text/plain": [
              "torch.Size([60000, 28, 28])"
            ]
          },
          "metadata": {},
          "execution_count": 6
        }
      ]
    },
    {
      "cell_type": "code",
      "source": [
        "from torch.utils.data import DataLoader\n",
        "\n",
        "loaders = {\n",
        "    'train' : DataLoader(train_data, batch_size = 100, shuffle = True, num_workers = 1),\n",
        "    'test' : DataLoader(test_data, batch_size = 100, shuffle = True, num_workers = 1),\n",
        "}"
      ],
      "metadata": {
        "id": "7TZKZH9Vzo0v"
      },
      "execution_count": 7,
      "outputs": []
    },
    {
      "cell_type": "code",
      "source": [
        "import torch.nn as nn\n",
        "import torch.nn.functional as F\n",
        "import torch.optim as optim\n",
        "\n",
        "class CNN(nn.Module):\n",
        "  def __init__(self):\n",
        "    super(CNN, self).__init__()\n",
        "\n",
        "    self.conv1 = nn.Conv2d(1, 10, kernel_size = 5)\n",
        "    self.conv2 = nn.Conv2d(10, 20, kernel_size = 5)\n",
        "    self.conv2_drop = nn.Dropout2d()\n",
        "    self.fc1 = nn.Linear(320, 50)\n",
        "    self.fc2 = nn.Linear(50, 10)\n",
        "\n",
        "  def forward(self, x):\n",
        "    x = F.relu(F.max_pool2d(self.conv1(x), 2))\n",
        "    x = F.relu(F.max_pool2d(self.conv2_drop(self.conv2(x)),2))\n",
        "    x = x.view(-1, 320)\n",
        "    x = F.relu(self.fc1(x))\n",
        "    x = F.dropout(x, training = self.training)\n",
        "    x = self.fc2(x)\n",
        "\n",
        "    return F.softmax(x)"
      ],
      "metadata": {
        "id": "uo2FtNN60QkS"
      },
      "execution_count": 8,
      "outputs": []
    },
    {
      "cell_type": "code",
      "source": [
        "import torch\n",
        "\n",
        "device = torch.device('cuda' if torch.cuda.is_available() else 'cpu')\n",
        "\n",
        "model = CNN().to(device)\n",
        "\n",
        "optimizer = optim.Adam(model.parameters(), lr = 0.001)\n",
        "\n",
        "loss_fn = nn.CrossEntropyLoss()\n",
        "\n",
        "def train(epoch):\n",
        "  model.train()\n",
        "  for batch_idx, (data, target) in enumerate(loaders['train']):\n",
        "    data, target = data.to(device), target.to(device)\n",
        "    optimizer.zero_grad()\n",
        "    output = model(data)\n",
        "    loss = loss_fn(output, target)\n",
        "    loss.backward()\n",
        "    optimizer.step()\n",
        "    if batch_idx % 20 == 0:\n",
        "      print(f\"Train Epoch : {epoch} [{batch_idx * len(data)}/{len(loaders['train'].dataset)} ({100. * batch_idx / len(loaders['train']):.0f}%)]\\t{loss.item() :.6f}\")\n",
        "\n",
        "def test():\n",
        "  model.eval()\n",
        "\n",
        "  test_loss = 0\n",
        "  correct = 0\n",
        "  with torch.no_grad():\n",
        "    for data, target in loaders['test']:\n",
        "      data, target = data.to(device), target.to(device)\n",
        "      output = model(data)\n",
        "      test_loss += loss_fn(output, target).item()\n",
        "      pred = output.argmax(dim = 1, keepdim = True)\n",
        "      correct += pred.eq(target.view_as(pred)).sum().item()\n",
        "\n",
        "  test_loss /= len(loaders['test'].dataset)\n",
        "  print(f\"\\nTest Set: Average loss: {test_loss:.4f}, Accuracy: {correct}/{len(loaders['test'].dataset)} ({100. * correct / len(loaders['test'].dataset):.0f}%\\n)\")"
      ],
      "metadata": {
        "id": "P-6ZhuUg2iUP"
      },
      "execution_count": 9,
      "outputs": []
    },
    {
      "cell_type": "code",
      "source": [
        "for epoch in range(1,11):\n",
        "  train(epoch)\n",
        "  test()"
      ],
      "metadata": {
        "colab": {
          "base_uri": "https://localhost:8080/"
        },
        "id": "MqDk706t76I-",
        "outputId": "32ebf996-f612-42df-f810-96c0fea03512"
      },
      "execution_count": 10,
      "outputs": [
        {
          "output_type": "stream",
          "name": "stderr",
          "text": [
            "<ipython-input-8-319b49ac7778>:23: UserWarning: Implicit dimension choice for softmax has been deprecated. Change the call to include dim=X as an argument.\n",
            "  return F.softmax(x)\n"
          ]
        },
        {
          "output_type": "stream",
          "name": "stdout",
          "text": [
            "Train Epoch : 1 [0/60000 (0%)]\t2.302605\n",
            "Train Epoch : 1 [2000/60000 (3%)]\t2.292365\n",
            "Train Epoch : 1 [4000/60000 (7%)]\t2.158916\n",
            "Train Epoch : 1 [6000/60000 (10%)]\t1.986609\n",
            "Train Epoch : 1 [8000/60000 (13%)]\t1.899865\n",
            "Train Epoch : 1 [10000/60000 (17%)]\t1.871595\n",
            "Train Epoch : 1 [12000/60000 (20%)]\t1.781731\n",
            "Train Epoch : 1 [14000/60000 (23%)]\t1.825837\n",
            "Train Epoch : 1 [16000/60000 (27%)]\t1.787958\n",
            "Train Epoch : 1 [18000/60000 (30%)]\t1.733970\n",
            "Train Epoch : 1 [20000/60000 (33%)]\t1.691231\n",
            "Train Epoch : 1 [22000/60000 (37%)]\t1.690805\n",
            "Train Epoch : 1 [24000/60000 (40%)]\t1.676899\n",
            "Train Epoch : 1 [26000/60000 (43%)]\t1.627761\n",
            "Train Epoch : 1 [28000/60000 (47%)]\t1.622308\n",
            "Train Epoch : 1 [30000/60000 (50%)]\t1.630815\n",
            "Train Epoch : 1 [32000/60000 (53%)]\t1.632214\n",
            "Train Epoch : 1 [34000/60000 (57%)]\t1.721830\n",
            "Train Epoch : 1 [36000/60000 (60%)]\t1.604851\n",
            "Train Epoch : 1 [38000/60000 (63%)]\t1.612027\n",
            "Train Epoch : 1 [40000/60000 (67%)]\t1.652532\n",
            "Train Epoch : 1 [42000/60000 (70%)]\t1.637983\n",
            "Train Epoch : 1 [44000/60000 (73%)]\t1.569720\n",
            "Train Epoch : 1 [46000/60000 (77%)]\t1.580574\n",
            "Train Epoch : 1 [48000/60000 (80%)]\t1.632339\n",
            "Train Epoch : 1 [50000/60000 (83%)]\t1.586292\n",
            "Train Epoch : 1 [52000/60000 (87%)]\t1.584929\n",
            "Train Epoch : 1 [54000/60000 (90%)]\t1.669920\n",
            "Train Epoch : 1 [56000/60000 (93%)]\t1.589097\n",
            "Train Epoch : 1 [58000/60000 (97%)]\t1.600608\n",
            "\n",
            "Test Set: Average loss: 0.0153, Accuracy: 9368/10000 (94%\n",
            ")\n",
            "Train Epoch : 2 [0/60000 (0%)]\t1.606651\n",
            "Train Epoch : 2 [2000/60000 (3%)]\t1.609955\n",
            "Train Epoch : 2 [4000/60000 (7%)]\t1.599020\n",
            "Train Epoch : 2 [6000/60000 (10%)]\t1.617208\n",
            "Train Epoch : 2 [8000/60000 (13%)]\t1.643245\n",
            "Train Epoch : 2 [10000/60000 (17%)]\t1.613657\n",
            "Train Epoch : 2 [12000/60000 (20%)]\t1.573046\n",
            "Train Epoch : 2 [14000/60000 (23%)]\t1.576731\n",
            "Train Epoch : 2 [16000/60000 (27%)]\t1.559454\n",
            "Train Epoch : 2 [18000/60000 (30%)]\t1.541509\n",
            "Train Epoch : 2 [20000/60000 (33%)]\t1.582369\n",
            "Train Epoch : 2 [22000/60000 (37%)]\t1.523321\n",
            "Train Epoch : 2 [24000/60000 (40%)]\t1.583890\n",
            "Train Epoch : 2 [26000/60000 (43%)]\t1.534447\n",
            "Train Epoch : 2 [28000/60000 (47%)]\t1.591846\n",
            "Train Epoch : 2 [30000/60000 (50%)]\t1.608255\n",
            "Train Epoch : 2 [32000/60000 (53%)]\t1.532482\n",
            "Train Epoch : 2 [34000/60000 (57%)]\t1.540098\n",
            "Train Epoch : 2 [36000/60000 (60%)]\t1.521502\n",
            "Train Epoch : 2 [38000/60000 (63%)]\t1.578886\n",
            "Train Epoch : 2 [40000/60000 (67%)]\t1.609848\n",
            "Train Epoch : 2 [42000/60000 (70%)]\t1.559043\n",
            "Train Epoch : 2 [44000/60000 (73%)]\t1.595218\n",
            "Train Epoch : 2 [46000/60000 (77%)]\t1.563703\n",
            "Train Epoch : 2 [48000/60000 (80%)]\t1.534948\n",
            "Train Epoch : 2 [50000/60000 (83%)]\t1.544245\n",
            "Train Epoch : 2 [52000/60000 (87%)]\t1.622535\n",
            "Train Epoch : 2 [54000/60000 (90%)]\t1.552826\n",
            "Train Epoch : 2 [56000/60000 (93%)]\t1.611877\n",
            "Train Epoch : 2 [58000/60000 (97%)]\t1.571644\n",
            "\n",
            "Test Set: Average loss: 0.0151, Accuracy: 9504/10000 (95%\n",
            ")\n",
            "Train Epoch : 3 [0/60000 (0%)]\t1.604091\n",
            "Train Epoch : 3 [2000/60000 (3%)]\t1.557526\n",
            "Train Epoch : 3 [4000/60000 (7%)]\t1.567581\n",
            "Train Epoch : 3 [6000/60000 (10%)]\t1.559129\n",
            "Train Epoch : 3 [8000/60000 (13%)]\t1.548489\n",
            "Train Epoch : 3 [10000/60000 (17%)]\t1.624564\n",
            "Train Epoch : 3 [12000/60000 (20%)]\t1.595364\n",
            "Train Epoch : 3 [14000/60000 (23%)]\t1.523702\n",
            "Train Epoch : 3 [16000/60000 (27%)]\t1.583866\n",
            "Train Epoch : 3 [18000/60000 (30%)]\t1.508438\n",
            "Train Epoch : 3 [20000/60000 (33%)]\t1.533792\n",
            "Train Epoch : 3 [22000/60000 (37%)]\t1.577459\n",
            "Train Epoch : 3 [24000/60000 (40%)]\t1.552549\n",
            "Train Epoch : 3 [26000/60000 (43%)]\t1.521221\n",
            "Train Epoch : 3 [28000/60000 (47%)]\t1.580888\n",
            "Train Epoch : 3 [30000/60000 (50%)]\t1.535631\n",
            "Train Epoch : 3 [32000/60000 (53%)]\t1.514534\n",
            "Train Epoch : 3 [34000/60000 (57%)]\t1.528707\n",
            "Train Epoch : 3 [36000/60000 (60%)]\t1.554424\n",
            "Train Epoch : 3 [38000/60000 (63%)]\t1.566684\n",
            "Train Epoch : 3 [40000/60000 (67%)]\t1.572457\n",
            "Train Epoch : 3 [42000/60000 (70%)]\t1.556695\n",
            "Train Epoch : 3 [44000/60000 (73%)]\t1.572256\n",
            "Train Epoch : 3 [46000/60000 (77%)]\t1.550896\n",
            "Train Epoch : 3 [48000/60000 (80%)]\t1.561877\n",
            "Train Epoch : 3 [50000/60000 (83%)]\t1.589284\n",
            "Train Epoch : 3 [52000/60000 (87%)]\t1.585167\n",
            "Train Epoch : 3 [54000/60000 (90%)]\t1.575514\n",
            "Train Epoch : 3 [56000/60000 (93%)]\t1.531850\n",
            "Train Epoch : 3 [58000/60000 (97%)]\t1.588649\n",
            "\n",
            "Test Set: Average loss: 0.0150, Accuracy: 9598/10000 (96%\n",
            ")\n",
            "Train Epoch : 4 [0/60000 (0%)]\t1.578081\n",
            "Train Epoch : 4 [2000/60000 (3%)]\t1.544048\n",
            "Train Epoch : 4 [4000/60000 (7%)]\t1.573261\n",
            "Train Epoch : 4 [6000/60000 (10%)]\t1.505012\n",
            "Train Epoch : 4 [8000/60000 (13%)]\t1.561838\n",
            "Train Epoch : 4 [10000/60000 (17%)]\t1.597105\n",
            "Train Epoch : 4 [12000/60000 (20%)]\t1.542293\n",
            "Train Epoch : 4 [14000/60000 (23%)]\t1.593881\n",
            "Train Epoch : 4 [16000/60000 (27%)]\t1.600089\n",
            "Train Epoch : 4 [18000/60000 (30%)]\t1.587577\n",
            "Train Epoch : 4 [20000/60000 (33%)]\t1.585680\n",
            "Train Epoch : 4 [22000/60000 (37%)]\t1.523114\n",
            "Train Epoch : 4 [24000/60000 (40%)]\t1.529228\n",
            "Train Epoch : 4 [26000/60000 (43%)]\t1.557220\n",
            "Train Epoch : 4 [28000/60000 (47%)]\t1.548811\n",
            "Train Epoch : 4 [30000/60000 (50%)]\t1.560686\n",
            "Train Epoch : 4 [32000/60000 (53%)]\t1.544239\n",
            "Train Epoch : 4 [34000/60000 (57%)]\t1.584868\n",
            "Train Epoch : 4 [36000/60000 (60%)]\t1.576879\n",
            "Train Epoch : 4 [38000/60000 (63%)]\t1.566889\n",
            "Train Epoch : 4 [40000/60000 (67%)]\t1.550889\n",
            "Train Epoch : 4 [42000/60000 (70%)]\t1.560041\n",
            "Train Epoch : 4 [44000/60000 (73%)]\t1.538002\n",
            "Train Epoch : 4 [46000/60000 (77%)]\t1.534378\n",
            "Train Epoch : 4 [48000/60000 (80%)]\t1.580026\n",
            "Train Epoch : 4 [50000/60000 (83%)]\t1.557028\n",
            "Train Epoch : 4 [52000/60000 (87%)]\t1.541814\n",
            "Train Epoch : 4 [54000/60000 (90%)]\t1.511539\n",
            "Train Epoch : 4 [56000/60000 (93%)]\t1.590413\n",
            "Train Epoch : 4 [58000/60000 (97%)]\t1.496503\n",
            "\n",
            "Test Set: Average loss: 0.0150, Accuracy: 9608/10000 (96%\n",
            ")\n",
            "Train Epoch : 5 [0/60000 (0%)]\t1.538488\n",
            "Train Epoch : 5 [2000/60000 (3%)]\t1.536703\n",
            "Train Epoch : 5 [4000/60000 (7%)]\t1.547463\n",
            "Train Epoch : 5 [6000/60000 (10%)]\t1.549288\n",
            "Train Epoch : 5 [8000/60000 (13%)]\t1.536575\n",
            "Train Epoch : 5 [10000/60000 (17%)]\t1.537862\n",
            "Train Epoch : 5 [12000/60000 (20%)]\t1.531375\n",
            "Train Epoch : 5 [14000/60000 (23%)]\t1.540826\n",
            "Train Epoch : 5 [16000/60000 (27%)]\t1.596897\n",
            "Train Epoch : 5 [18000/60000 (30%)]\t1.553467\n",
            "Train Epoch : 5 [20000/60000 (33%)]\t1.534818\n",
            "Train Epoch : 5 [22000/60000 (37%)]\t1.528264\n",
            "Train Epoch : 5 [24000/60000 (40%)]\t1.550866\n",
            "Train Epoch : 5 [26000/60000 (43%)]\t1.497460\n",
            "Train Epoch : 5 [28000/60000 (47%)]\t1.555763\n",
            "Train Epoch : 5 [30000/60000 (50%)]\t1.521333\n",
            "Train Epoch : 5 [32000/60000 (53%)]\t1.524142\n",
            "Train Epoch : 5 [34000/60000 (57%)]\t1.552588\n",
            "Train Epoch : 5 [36000/60000 (60%)]\t1.512549\n",
            "Train Epoch : 5 [38000/60000 (63%)]\t1.535340\n",
            "Train Epoch : 5 [40000/60000 (67%)]\t1.555248\n",
            "Train Epoch : 5 [42000/60000 (70%)]\t1.522523\n",
            "Train Epoch : 5 [44000/60000 (73%)]\t1.541686\n",
            "Train Epoch : 5 [46000/60000 (77%)]\t1.508098\n",
            "Train Epoch : 5 [48000/60000 (80%)]\t1.546242\n",
            "Train Epoch : 5 [50000/60000 (83%)]\t1.535998\n",
            "Train Epoch : 5 [52000/60000 (87%)]\t1.546250\n",
            "Train Epoch : 5 [54000/60000 (90%)]\t1.534158\n",
            "Train Epoch : 5 [56000/60000 (93%)]\t1.564613\n",
            "Train Epoch : 5 [58000/60000 (97%)]\t1.522734\n",
            "\n",
            "Test Set: Average loss: 0.0150, Accuracy: 9634/10000 (96%\n",
            ")\n",
            "Train Epoch : 6 [0/60000 (0%)]\t1.574518\n",
            "Train Epoch : 6 [2000/60000 (3%)]\t1.525756\n",
            "Train Epoch : 6 [4000/60000 (7%)]\t1.566775\n",
            "Train Epoch : 6 [6000/60000 (10%)]\t1.535836\n",
            "Train Epoch : 6 [8000/60000 (13%)]\t1.571181\n",
            "Train Epoch : 6 [10000/60000 (17%)]\t1.561866\n",
            "Train Epoch : 6 [12000/60000 (20%)]\t1.556409\n",
            "Train Epoch : 6 [14000/60000 (23%)]\t1.548845\n",
            "Train Epoch : 6 [16000/60000 (27%)]\t1.504937\n",
            "Train Epoch : 6 [18000/60000 (30%)]\t1.511644\n",
            "Train Epoch : 6 [20000/60000 (33%)]\t1.586001\n",
            "Train Epoch : 6 [22000/60000 (37%)]\t1.579994\n",
            "Train Epoch : 6 [24000/60000 (40%)]\t1.541608\n",
            "Train Epoch : 6 [26000/60000 (43%)]\t1.555644\n",
            "Train Epoch : 6 [28000/60000 (47%)]\t1.511034\n",
            "Train Epoch : 6 [30000/60000 (50%)]\t1.547500\n",
            "Train Epoch : 6 [32000/60000 (53%)]\t1.589594\n",
            "Train Epoch : 6 [34000/60000 (57%)]\t1.578656\n",
            "Train Epoch : 6 [36000/60000 (60%)]\t1.539705\n",
            "Train Epoch : 6 [38000/60000 (63%)]\t1.534421\n",
            "Train Epoch : 6 [40000/60000 (67%)]\t1.609435\n",
            "Train Epoch : 6 [42000/60000 (70%)]\t1.553252\n",
            "Train Epoch : 6 [44000/60000 (73%)]\t1.504405\n",
            "Train Epoch : 6 [46000/60000 (77%)]\t1.502023\n",
            "Train Epoch : 6 [48000/60000 (80%)]\t1.526535\n",
            "Train Epoch : 6 [50000/60000 (83%)]\t1.511642\n",
            "Train Epoch : 6 [52000/60000 (87%)]\t1.545992\n",
            "Train Epoch : 6 [54000/60000 (90%)]\t1.514216\n",
            "Train Epoch : 6 [56000/60000 (93%)]\t1.545668\n",
            "Train Epoch : 6 [58000/60000 (97%)]\t1.565961\n",
            "\n",
            "Test Set: Average loss: 0.0149, Accuracy: 9683/10000 (97%\n",
            ")\n",
            "Train Epoch : 7 [0/60000 (0%)]\t1.557068\n",
            "Train Epoch : 7 [2000/60000 (3%)]\t1.516177\n",
            "Train Epoch : 7 [4000/60000 (7%)]\t1.475378\n",
            "Train Epoch : 7 [6000/60000 (10%)]\t1.536234\n",
            "Train Epoch : 7 [8000/60000 (13%)]\t1.525384\n",
            "Train Epoch : 7 [10000/60000 (17%)]\t1.552885\n",
            "Train Epoch : 7 [12000/60000 (20%)]\t1.543291\n",
            "Train Epoch : 7 [14000/60000 (23%)]\t1.511668\n",
            "Train Epoch : 7 [16000/60000 (27%)]\t1.518526\n",
            "Train Epoch : 7 [18000/60000 (30%)]\t1.531781\n",
            "Train Epoch : 7 [20000/60000 (33%)]\t1.552760\n",
            "Train Epoch : 7 [22000/60000 (37%)]\t1.572317\n",
            "Train Epoch : 7 [24000/60000 (40%)]\t1.500005\n",
            "Train Epoch : 7 [26000/60000 (43%)]\t1.510048\n",
            "Train Epoch : 7 [28000/60000 (47%)]\t1.501480\n",
            "Train Epoch : 7 [30000/60000 (50%)]\t1.535010\n",
            "Train Epoch : 7 [32000/60000 (53%)]\t1.568891\n",
            "Train Epoch : 7 [34000/60000 (57%)]\t1.539594\n",
            "Train Epoch : 7 [36000/60000 (60%)]\t1.580004\n",
            "Train Epoch : 7 [38000/60000 (63%)]\t1.547171\n",
            "Train Epoch : 7 [40000/60000 (67%)]\t1.520645\n",
            "Train Epoch : 7 [42000/60000 (70%)]\t1.514321\n",
            "Train Epoch : 7 [44000/60000 (73%)]\t1.562497\n",
            "Train Epoch : 7 [46000/60000 (77%)]\t1.542655\n",
            "Train Epoch : 7 [48000/60000 (80%)]\t1.509320\n",
            "Train Epoch : 7 [50000/60000 (83%)]\t1.543514\n",
            "Train Epoch : 7 [52000/60000 (87%)]\t1.551196\n",
            "Train Epoch : 7 [54000/60000 (90%)]\t1.558282\n",
            "Train Epoch : 7 [56000/60000 (93%)]\t1.545961\n",
            "Train Epoch : 7 [58000/60000 (97%)]\t1.539777\n",
            "\n",
            "Test Set: Average loss: 0.0149, Accuracy: 9703/10000 (97%\n",
            ")\n",
            "Train Epoch : 8 [0/60000 (0%)]\t1.566812\n",
            "Train Epoch : 8 [2000/60000 (3%)]\t1.544138\n",
            "Train Epoch : 8 [4000/60000 (7%)]\t1.483241\n",
            "Train Epoch : 8 [6000/60000 (10%)]\t1.528530\n",
            "Train Epoch : 8 [8000/60000 (13%)]\t1.555959\n",
            "Train Epoch : 8 [10000/60000 (17%)]\t1.518240\n",
            "Train Epoch : 8 [12000/60000 (20%)]\t1.540666\n",
            "Train Epoch : 8 [14000/60000 (23%)]\t1.535836\n",
            "Train Epoch : 8 [16000/60000 (27%)]\t1.532455\n",
            "Train Epoch : 8 [18000/60000 (30%)]\t1.514150\n",
            "Train Epoch : 8 [20000/60000 (33%)]\t1.557700\n",
            "Train Epoch : 8 [22000/60000 (37%)]\t1.539600\n",
            "Train Epoch : 8 [24000/60000 (40%)]\t1.493688\n",
            "Train Epoch : 8 [26000/60000 (43%)]\t1.559558\n",
            "Train Epoch : 8 [28000/60000 (47%)]\t1.546461\n",
            "Train Epoch : 8 [30000/60000 (50%)]\t1.504468\n",
            "Train Epoch : 8 [32000/60000 (53%)]\t1.563563\n",
            "Train Epoch : 8 [34000/60000 (57%)]\t1.585097\n",
            "Train Epoch : 8 [36000/60000 (60%)]\t1.511587\n",
            "Train Epoch : 8 [38000/60000 (63%)]\t1.570711\n",
            "Train Epoch : 8 [40000/60000 (67%)]\t1.547275\n",
            "Train Epoch : 8 [42000/60000 (70%)]\t1.519751\n",
            "Train Epoch : 8 [44000/60000 (73%)]\t1.560658\n",
            "Train Epoch : 8 [46000/60000 (77%)]\t1.544709\n",
            "Train Epoch : 8 [48000/60000 (80%)]\t1.510452\n",
            "Train Epoch : 8 [50000/60000 (83%)]\t1.529634\n",
            "Train Epoch : 8 [52000/60000 (87%)]\t1.502414\n",
            "Train Epoch : 8 [54000/60000 (90%)]\t1.552991\n",
            "Train Epoch : 8 [56000/60000 (93%)]\t1.538452\n",
            "Train Epoch : 8 [58000/60000 (97%)]\t1.483737\n",
            "\n",
            "Test Set: Average loss: 0.0149, Accuracy: 9714/10000 (97%\n",
            ")\n",
            "Train Epoch : 9 [0/60000 (0%)]\t1.502619\n",
            "Train Epoch : 9 [2000/60000 (3%)]\t1.528021\n",
            "Train Epoch : 9 [4000/60000 (7%)]\t1.515368\n",
            "Train Epoch : 9 [6000/60000 (10%)]\t1.514033\n",
            "Train Epoch : 9 [8000/60000 (13%)]\t1.561542\n",
            "Train Epoch : 9 [10000/60000 (17%)]\t1.588086\n",
            "Train Epoch : 9 [12000/60000 (20%)]\t1.511143\n",
            "Train Epoch : 9 [14000/60000 (23%)]\t1.532428\n",
            "Train Epoch : 9 [16000/60000 (27%)]\t1.506472\n",
            "Train Epoch : 9 [18000/60000 (30%)]\t1.523731\n",
            "Train Epoch : 9 [20000/60000 (33%)]\t1.492406\n",
            "Train Epoch : 9 [22000/60000 (37%)]\t1.502895\n",
            "Train Epoch : 9 [24000/60000 (40%)]\t1.526473\n",
            "Train Epoch : 9 [26000/60000 (43%)]\t1.561191\n",
            "Train Epoch : 9 [28000/60000 (47%)]\t1.504655\n",
            "Train Epoch : 9 [30000/60000 (50%)]\t1.523577\n",
            "Train Epoch : 9 [32000/60000 (53%)]\t1.525204\n",
            "Train Epoch : 9 [34000/60000 (57%)]\t1.535092\n",
            "Train Epoch : 9 [36000/60000 (60%)]\t1.561350\n",
            "Train Epoch : 9 [38000/60000 (63%)]\t1.500574\n",
            "Train Epoch : 9 [40000/60000 (67%)]\t1.511963\n",
            "Train Epoch : 9 [42000/60000 (70%)]\t1.545908\n",
            "Train Epoch : 9 [44000/60000 (73%)]\t1.523093\n",
            "Train Epoch : 9 [46000/60000 (77%)]\t1.505278\n",
            "Train Epoch : 9 [48000/60000 (80%)]\t1.506283\n",
            "Train Epoch : 9 [50000/60000 (83%)]\t1.521460\n",
            "Train Epoch : 9 [52000/60000 (87%)]\t1.492156\n",
            "Train Epoch : 9 [54000/60000 (90%)]\t1.506337\n",
            "Train Epoch : 9 [56000/60000 (93%)]\t1.504408\n",
            "Train Epoch : 9 [58000/60000 (97%)]\t1.541165\n",
            "\n",
            "Test Set: Average loss: 0.0149, Accuracy: 9738/10000 (97%\n",
            ")\n",
            "Train Epoch : 10 [0/60000 (0%)]\t1.525781\n",
            "Train Epoch : 10 [2000/60000 (3%)]\t1.563687\n",
            "Train Epoch : 10 [4000/60000 (7%)]\t1.548748\n",
            "Train Epoch : 10 [6000/60000 (10%)]\t1.519650\n",
            "Train Epoch : 10 [8000/60000 (13%)]\t1.552923\n",
            "Train Epoch : 10 [10000/60000 (17%)]\t1.553673\n",
            "Train Epoch : 10 [12000/60000 (20%)]\t1.576331\n",
            "Train Epoch : 10 [14000/60000 (23%)]\t1.514809\n",
            "Train Epoch : 10 [16000/60000 (27%)]\t1.522359\n",
            "Train Epoch : 10 [18000/60000 (30%)]\t1.504069\n",
            "Train Epoch : 10 [20000/60000 (33%)]\t1.529715\n",
            "Train Epoch : 10 [22000/60000 (37%)]\t1.513577\n",
            "Train Epoch : 10 [24000/60000 (40%)]\t1.493460\n",
            "Train Epoch : 10 [26000/60000 (43%)]\t1.518897\n",
            "Train Epoch : 10 [28000/60000 (47%)]\t1.537819\n",
            "Train Epoch : 10 [30000/60000 (50%)]\t1.582758\n",
            "Train Epoch : 10 [32000/60000 (53%)]\t1.531613\n",
            "Train Epoch : 10 [34000/60000 (57%)]\t1.539745\n",
            "Train Epoch : 10 [36000/60000 (60%)]\t1.478606\n",
            "Train Epoch : 10 [38000/60000 (63%)]\t1.507429\n",
            "Train Epoch : 10 [40000/60000 (67%)]\t1.541509\n",
            "Train Epoch : 10 [42000/60000 (70%)]\t1.520019\n",
            "Train Epoch : 10 [44000/60000 (73%)]\t1.529155\n",
            "Train Epoch : 10 [46000/60000 (77%)]\t1.539292\n",
            "Train Epoch : 10 [48000/60000 (80%)]\t1.526679\n",
            "Train Epoch : 10 [50000/60000 (83%)]\t1.496540\n",
            "Train Epoch : 10 [52000/60000 (87%)]\t1.525555\n",
            "Train Epoch : 10 [54000/60000 (90%)]\t1.529190\n",
            "Train Epoch : 10 [56000/60000 (93%)]\t1.508407\n",
            "Train Epoch : 10 [58000/60000 (97%)]\t1.554002\n",
            "\n",
            "Test Set: Average loss: 0.0149, Accuracy: 9741/10000 (97%\n",
            ")\n"
          ]
        }
      ]
    },
    {
      "cell_type": "code",
      "source": [
        "device"
      ],
      "metadata": {
        "colab": {
          "base_uri": "https://localhost:8080/"
        },
        "id": "ahxMKVeM9ChS",
        "outputId": "71ea5469-7431-49bf-ea47-9bcfe7d40ac4"
      },
      "execution_count": 11,
      "outputs": [
        {
          "output_type": "execute_result",
          "data": {
            "text/plain": [
              "device(type='cpu')"
            ]
          },
          "metadata": {},
          "execution_count": 11
        }
      ]
    },
    {
      "cell_type": "code",
      "source": [
        "import matplotlib.pyplot as plt\n",
        "\n",
        "model.eval()\n",
        "\n",
        "data, target = test_data[1]\n",
        "\n",
        "data = data.unsqueeze(0).to(device)\n",
        "\n",
        "output = model(data)\n",
        "\n",
        "prediction = output.argmax(dim = 1, keepdim = True).item()\n",
        "\n",
        "print(f'Prediction: {prediction}')\n",
        "\n",
        "image = data.squeeze(0).squeeze(0).cpu().numpy()\n",
        "\n",
        "plt.imshow(image, cmap = 'gray')\n",
        "plt.show()\n"
      ],
      "metadata": {
        "colab": {
          "base_uri": "https://localhost:8080/",
          "height": 484
        },
        "id": "cEj1QGR49EXW",
        "outputId": "7844b3af-eccf-4395-bbd9-2d985d8cdda8"
      },
      "execution_count": 13,
      "outputs": [
        {
          "output_type": "stream",
          "name": "stdout",
          "text": [
            "Prediction: 2\n"
          ]
        },
        {
          "output_type": "stream",
          "name": "stderr",
          "text": [
            "<ipython-input-8-319b49ac7778>:23: UserWarning: Implicit dimension choice for softmax has been deprecated. Change the call to include dim=X as an argument.\n",
            "  return F.softmax(x)\n"
          ]
        },
        {
          "output_type": "display_data",
          "data": {
            "text/plain": [
              "<Figure size 640x480 with 1 Axes>"
            ],
            "image/png": "[encoded data removed]"
          },
          "metadata": {}
        }
      ]
    },
    {
      "cell_type": "code",
      "source": [
        "import torch\n",
        "import torch.nn.functional as F\n",
        "from sklearn.metrics import accuracy_score\n",
        "\n",
        "model.eval()\n",
        "all_preds = []\n",
        "all_targets = []\n",
        "\n",
        "with torch.no_grad():\n",
        "    for data, target in loaders['test']:\n",
        "        output = model(data)\n",
        "        preds = output.argmax(dim=1)\n",
        "        all_preds.extend(preds.tolist())\n",
        "        if isinstance(target, torch.Tensor):\n",
        "            all_targets.extend(target.cpu().tolist())\n",
        "        else:\n",
        "            all_targets.append(target)\n",
        "accuracy = accuracy_score(all_targets, all_preds)\n",
        "print(f\"Model Accuracy: {accuracy * 100:.2f}%\")\n",
        "\n"
      ],
      "metadata": {
        "colab": {
          "base_uri": "https://localhost:8080/"
        },
        "id": "FNikORHM-oNy",
        "outputId": "3894b1ca-c1f8-4720-cd98-2d1b58b361bf"
      },
      "execution_count": 17,
      "outputs": [
        {
          "output_type": "stream",
          "name": "stderr",
          "text": [
            "<ipython-input-8-319b49ac7778>:23: UserWarning: Implicit dimension choice for softmax has been deprecated. Change the call to include dim=X as an argument.\n",
            "  return F.softmax(x)\n"
          ]
        },
        {
          "output_type": "stream",
          "name": "stdout",
          "text": [
            "Model Accuracy: 97.41%\n"
          ]
        }
      ]
    }
  ]
}